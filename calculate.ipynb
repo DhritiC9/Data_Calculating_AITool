{
 "cells": [
  {
   "cell_type": "code",
   "execution_count": null,
   "metadata": {},
   "outputs": [],
   "source": [
    "from langchain_groq import ChatGroq\n",
    "import os\n",
    "import pandas as pd\n",
    "from langchain_core.tools import tool\n",
    "from langchain_core.messages import AIMessage, SystemMessage, HumanMessage, ToolMessage\n",
    "from datetime import date\n",
    "\n",
    "# Initialize the LLM\n",
    "llm = ChatGroq(groq_api_key=\"your groq api key\", model='llama3-70b-8192')\n"
   ]
  },
  {
   "cell_type": "code",
   "execution_count": null,
   "metadata": {},
   "outputs": [],
   "source": [
    "@tool\n",
    "def calculate( column_names,column_type ):\n",
    "    '''\n",
    "    Read data from an Excel sheet or DataFrame, calculate specified columns,\n",
    "    and create a new column with the respective values.\n",
    "    Like sum for addition of the column values, multiply for multiplication of the column values, subtraction for subtraction of the column values, division for division of the column values and power for raising to a certain power and average or mean for average of the column values.\n",
    "    Parameters:\n",
    "    column_names (list[str]): List of column names to be calculated.\n",
    "    column_type (str): Type of calculation to be performed. Can be one of'sum','multiply', 'division', 'power', or'mean'.\n",
    "    Returns:\n",
    "    pd.DataFrame: DataFrame with the new column 'respective' added.\n",
    "    '''\n",
    "    m=1\n",
    "    s=0\n",
    "    a=1 \n",
    "    x=0\n",
    "    d=1\n",
    "    file_path= \"DATASHEET.xlsx\"\n",
    "    dob_column = \"DOB\"\n",
    "    df = pd.read_excel(file_path)\n",
    "    reference_year = date.today().year  # Get the current year\n",
    "   \n",
    "    \n",
    "   \n",
    "\n",
    "    if column_type == 'multiply':\n",
    "        for col in column_names:\n",
    "            m *= df[col]\n",
    "        df['multiplied'] = m\n",
    "    elif column_type =='sum':\n",
    "        for col in column_names:\n",
    "            s += df[col]\n",
    "        df['Sum']  = s\n",
    "\n",
    "    elif column_type == 'division':\n",
    "        d = df[column_names[0]] /df[column_names[1]]\n",
    "        df['division'] = d\n",
    "    elif column_type == 'subtraction':\n",
    "        z = df[column_names[0]]-df[column_names[1]]\n",
    "        df['subtracted'] = z\n",
    "\n",
    "    elif column_type =='mean':\n",
    "        for col in column_names:\n",
    "            s += df[col]\n",
    "            x=x+1\n",
    "        df['Average']  = s/x\n",
    "    return df\n",
    "    \n",
    "   "
   ]
  },
  {
   "cell_type": "code",
   "execution_count": null,
   "metadata": {},
   "outputs": [],
   "source": [
    "from datetime import date\n",
    "\n",
    "def call_functions(user_prompt):\n",
    "    system_prompt = 'You are a helpful database assistant that analyzes data and performs functions. Today is {today}'.format(today=date.today())\n",
    "    \n",
    "    file_path= \"DATASHEET.xlsx\"\n",
    "    dob_column = \"DOB\"\n",
    "    df = pd.read_excel(file_path)\n",
    "    reference_year = date.today().year  # Get the current year\n",
    "    \n",
    "    messages = [SystemMessage(system_prompt), user_prompt]\n",
    "    tools = [ calculate]  # Assuming these are your tool functions\n",
    "    llm_with_tools = llm.bind_tools(tools)\n",
    "    \n",
    "    ai_msg = llm_with_tools.invoke(messages)\n",
    "    messages.append(ai_msg)\n",
    "    \n",
    "    t = []\n",
    "    for tool_call in ai_msg.tool_calls:\n",
    "        selected_tool = { \"calculate\": calculate}[tool_call[\"name\"].lower()]\n",
    "        tool_output = selected_tool.invoke(tool_call[\"args\"])\n",
    "        t.append(tool_output)\n",
    "    \n",
    "    return t"
   ]
  },
  {
   "cell_type": "code",
   "execution_count": null,
   "metadata": {},
   "outputs": [],
   "source": [
    "system_prompt = 'You are a helpful database assistant that analyzes data and performs functions. Today is {today}'.format(today = date.today())\n",
    "HumanMessage=\"Calculate the age and then Give me the sum and multiplication and average of columns A B and age, the divsion and subtraction of columns A and B \"\n",
    "out = call_functions(HumanMessage)\n",
    "print(out)"
   ]
  }
 ],
 "metadata": {
  "kernelspec": {
   "display_name": "base",
   "language": "python",
   "name": "python3"
  },
  "language_info": {
   "codemirror_mode": {
    "name": "ipython",
    "version": 3
   },
   "file_extension": ".py",
   "mimetype": "text/x-python",
   "name": "python",
   "nbconvert_exporter": "python",
   "pygments_lexer": "ipython3",
   "version": "3.12.4"
  }
 },
 "nbformat": 4,
 "nbformat_minor": 2
}
